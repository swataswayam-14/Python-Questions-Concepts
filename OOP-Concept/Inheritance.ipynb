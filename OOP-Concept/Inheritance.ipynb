{
 "cells": [
  {
   "cell_type": "code",
   "execution_count": 10,
   "metadata": {},
   "outputs": [
    {
     "name": "stdout",
     "output_type": "stream",
     "text": [
      "Mike Tyson\n",
      "holoaksf ekjf kjef kihsef\n"
     ]
    }
   ],
   "source": [
    "class Person:\n",
    "    def __init__(self , fname , lname):\n",
    "        self.firstname = fname\n",
    "        self.lastname = lname\n",
    "    def printMe(self):\n",
    "        print(\"holoaksf ekjf kjef kihsef\")\n",
    "    def __str__(self):\n",
    "        return \"Hola {f} {l}\".format(f = self.firstname, l = self.lastname)\n",
    "class Student(Person):\n",
    "    pass\n",
    "\n",
    "s1 = Student(\"Mike\", \"Tyson\")\n",
    "print(s1.firstname + \" \" +s1.lastname)\n",
    "s1.printMe()"
   ]
  },
  {
   "cell_type": "markdown",
   "metadata": {},
   "source": [
    "### when we add the init function to the child class , then the child class no longer inherits the init function of the parent class , the child's init function overrides the inheritance of the parent's init function"
   ]
  },
  {
   "cell_type": "markdown",
   "metadata": {},
   "source": [
    "#### to keep the inheritance of the parent's init function , add a call to the parent's init function"
   ]
  },
  {
   "cell_type": "code",
   "execution_count": 4,
   "metadata": {},
   "outputs": [],
   "source": [
    "class ChildClass(Person):\n",
    "    def __init__(self , fname , lname):\n",
    "        Person.__init__(self, fname, lname)"
   ]
  },
  {
   "cell_type": "code",
   "execution_count": 6,
   "metadata": {},
   "outputs": [
    {
     "name": "stdout",
     "output_type": "stream",
     "text": [
      "Dash\n"
     ]
    }
   ],
   "source": [
    "c1 = ChildClass(\"Swata Swayam\", \"Dash\")\n",
    "print(c1.lastname)"
   ]
  },
  {
   "cell_type": "markdown",
   "metadata": {},
   "source": [
    "### The super() function will make the child class inherit all the methods and properties from its parent"
   ]
  },
  {
   "cell_type": "code",
   "execution_count": 7,
   "metadata": {},
   "outputs": [],
   "source": [
    "class Stud(Person):\n",
    "    def __init__(self , fname , lname):\n",
    "        super().__init__(fname, lname)"
   ]
  },
  {
   "cell_type": "code",
   "execution_count": 8,
   "metadata": {},
   "outputs": [
    {
     "name": "stdout",
     "output_type": "stream",
     "text": [
      "holoaksf ekjf kjef kihsef\n"
     ]
    }
   ],
   "source": [
    "s0 = Stud(\"jksf\", \"kgsfa\")\n",
    "s0.printMe()"
   ]
  },
  {
   "cell_type": "markdown",
   "metadata": {},
   "source": [
    "### Adding properties"
   ]
  },
  {
   "cell_type": "code",
   "execution_count": 14,
   "metadata": {},
   "outputs": [
    {
     "name": "stdout",
     "output_type": "stream",
     "text": [
      "2026\n",
      "Hola Mikcai bilua\n"
     ]
    }
   ],
   "source": [
    "class Studd(Person):\n",
    "    def __init__(self , fname , lname, year):\n",
    "        super().__init__(fname, lname)\n",
    "        self.graduationYear = year\n",
    "    # def __str__(self):\n",
    "    #     super().__str__(self)\n",
    "    #     return \"Welcome to the {b} batch\".format(b=self.graduationYear)\n",
    "x = Studd(\"Mikcai\", \"bilua\", 2026)\n",
    "print(x.graduationYear)\n",
    "#print(x) : error Person.__str__() takes 1 positional argument but 2 were given\n",
    "\n",
    "print(x)"
   ]
  },
  {
   "cell_type": "code",
   "execution_count": null,
   "metadata": {},
   "outputs": [],
   "source": []
  }
 ],
 "metadata": {
  "kernelspec": {
   "display_name": "Python 3",
   "language": "python",
   "name": "python3"
  },
  "language_info": {
   "codemirror_mode": {
    "name": "ipython",
    "version": 3
   },
   "file_extension": ".py",
   "mimetype": "text/x-python",
   "name": "python",
   "nbconvert_exporter": "python",
   "pygments_lexer": "ipython3",
   "version": "3.11.1"
  }
 },
 "nbformat": 4,
 "nbformat_minor": 2
}
