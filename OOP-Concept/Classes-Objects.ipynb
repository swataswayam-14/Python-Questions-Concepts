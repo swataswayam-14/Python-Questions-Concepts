{
 "cells": [
  {
   "cell_type": "code",
   "execution_count": 1,
   "metadata": {},
   "outputs": [],
   "source": [
    "class MyClass:\n",
    "    x = 5"
   ]
  },
  {
   "cell_type": "code",
   "execution_count": 2,
   "metadata": {},
   "outputs": [
    {
     "name": "stdout",
     "output_type": "stream",
     "text": [
      "5\n"
     ]
    }
   ],
   "source": [
    "p1 = MyClass()\n",
    "\n",
    "print(p1.x)"
   ]
  },
  {
   "cell_type": "markdown",
   "metadata": {},
   "source": [
    "### The init function\n"
   ]
  },
  {
   "cell_type": "code",
   "execution_count": 3,
   "metadata": {},
   "outputs": [
    {
     "name": "stdout",
     "output_type": "stream",
     "text": [
      "20\n",
      "Swata Swayam Dash\n"
     ]
    }
   ],
   "source": [
    "class Person:\n",
    "    def __init__(self, name , age):\n",
    "        self.name = name\n",
    "        self.age = age\n",
    "\n",
    "p1 = Person(\"Swata Swayam Dash\", 20 )\n",
    "\n",
    "print(p1.age)\n",
    "print(p1.name)"
   ]
  },
  {
   "cell_type": "markdown",
   "metadata": {},
   "source": [
    "### The str function"
   ]
  },
  {
   "cell_type": "code",
   "execution_count": 5,
   "metadata": {},
   "outputs": [
    {
     "name": "stdout",
     "output_type": "stream",
     "text": [
      "Yeah my name is Baba , having legs 5, with a height of 87342\n",
      "Hey my name is Baba\n"
     ]
    }
   ],
   "source": [
    "class Human:\n",
    "    def __init__(self, name , legs , height):\n",
    "        self.name = name\n",
    "        self.legs = legs\n",
    "        self.height = height\n",
    "    def __str__(self):\n",
    "        return \"Yeah my name is {n} , having legs {l}, with a height of {h}\".format(n=self.name, l = self.legs, h = self.height)\n",
    "    def myFunc(self):\n",
    "        print(\"Hey my name is {s}\".format(s=self.name))\n",
    "    \n",
    "h1 = Human(\"Baba\", 5 , 87342)\n",
    "print(h1)\n",
    "h1.myFunc()\n",
    "\n",
    "\n",
    "# the self parameter is a reference to the current instance of the class and is used to access that belong to the class"
   ]
  },
  {
   "cell_type": "code",
   "execution_count": 12,
   "metadata": {},
   "outputs": [
    {
     "name": "stdout",
     "output_type": "stream",
     "text": [
      "female\n"
     ]
    }
   ],
   "source": [
    "class Test:\n",
    "    def __init__(mySiliSelf , name , gender):\n",
    "        mySiliSelf.name = name\n",
    "        mySiliSelf.gender = gender\n",
    "    \n",
    "t1 = Test(\"hola\", \"female\")\n",
    "print(t1.gender)\n"
   ]
  },
  {
   "cell_type": "code",
   "execution_count": 17,
   "metadata": {},
   "outputs": [
    {
     "name": "stdout",
     "output_type": "stream",
     "text": [
      "baba male\n"
     ]
    }
   ],
   "source": [
    "t1.name = \"baba\"\n",
    "t1.gender = \"male\"\n",
    "\n",
    "print(t1.name + \" \" + t1.gender)"
   ]
  },
  {
   "cell_type": "code",
   "execution_count": 18,
   "metadata": {},
   "outputs": [],
   "source": [
    "del t1.name #deleting the name property from the t1 object"
   ]
  },
  {
   "cell_type": "code",
   "execution_count": 19,
   "metadata": {},
   "outputs": [],
   "source": [
    "del t1 #deleting the object"
   ]
  },
  {
   "cell_type": "code",
   "execution_count": null,
   "metadata": {},
   "outputs": [],
   "source": []
  }
 ],
 "metadata": {
  "kernelspec": {
   "display_name": "Python 3",
   "language": "python",
   "name": "python3"
  },
  "language_info": {
   "codemirror_mode": {
    "name": "ipython",
    "version": 3
   },
   "file_extension": ".py",
   "mimetype": "text/x-python",
   "name": "python",
   "nbconvert_exporter": "python",
   "pygments_lexer": "ipython3",
   "version": "3.11.1"
  }
 },
 "nbformat": 4,
 "nbformat_minor": 2
}
