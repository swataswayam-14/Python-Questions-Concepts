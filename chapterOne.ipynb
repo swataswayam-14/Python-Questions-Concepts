{
 "cells": [
  {
   "cell_type": "markdown",
   "metadata": {},
   "source": [
    "Write a python program to print the table of 5"
   ]
  },
  {
   "cell_type": "code",
   "execution_count": 4,
   "metadata": {},
   "outputs": [
    {
     "name": "stdout",
     "output_type": "stream",
     "text": [
      "5\n",
      "\n",
      "\n",
      "10\n",
      "\n",
      "\n",
      "15\n",
      "\n",
      "\n",
      "20\n",
      "\n",
      "\n",
      "25\n",
      "\n",
      "\n",
      "30\n",
      "\n",
      "\n",
      "35\n",
      "\n",
      "\n",
      "40\n",
      "\n",
      "\n",
      "45\n",
      "\n",
      "\n",
      "50\n",
      "\n",
      "\n"
     ]
    }
   ],
   "source": [
    "for i in range(1,11):\n",
    "    print(5*i)\n",
    "    print(\"\\n\")"
   ]
  },
  {
   "cell_type": "markdown",
   "metadata": {},
   "source": [
    "write a program to add two numbers"
   ]
  },
  {
   "cell_type": "code",
   "execution_count": 5,
   "metadata": {},
   "outputs": [
    {
     "name": "stdout",
     "output_type": "stream",
     "text": [
      "15\n"
     ]
    }
   ],
   "source": [
    "a = 8\n",
    "b = 7\n",
    "\n",
    "print(a+b)"
   ]
  },
  {
   "cell_type": "markdown",
   "metadata": {},
   "source": [
    "WAP to find the remainder when a number is divided by z"
   ]
  },
  {
   "cell_type": "code",
   "execution_count": 7,
   "metadata": {},
   "outputs": [
    {
     "name": "stdout",
     "output_type": "stream",
     "text": [
      "2\n"
     ]
    }
   ],
   "source": [
    "num = 8\n",
    "rem = num%3\n",
    "print(rem)"
   ]
  },
  {
   "cell_type": "code",
   "execution_count": 9,
   "metadata": {},
   "outputs": [
    {
     "name": "stdout",
     "output_type": "stream",
     "text": [
      "<class 'str'>\n"
     ]
    }
   ],
   "source": [
    "a = input(\"Enter something\")\n",
    "print(type(a))"
   ]
  },
  {
   "cell_type": "code",
   "execution_count": 10,
   "metadata": {},
   "outputs": [
    {
     "name": "stdout",
     "output_type": "stream",
     "text": [
      "True\n"
     ]
    }
   ],
   "source": [
    "a= 80 \n",
    "b = 70\n",
    "print(a>b)"
   ]
  },
  {
   "cell_type": "code",
   "execution_count": 11,
   "metadata": {},
   "outputs": [
    {
     "name": "stdout",
     "output_type": "stream",
     "text": [
      "False\n"
     ]
    }
   ],
   "source": [
    "print(a<b)"
   ]
  },
  {
   "cell_type": "code",
   "execution_count": 13,
   "metadata": {},
   "outputs": [
    {
     "name": "stdout",
     "output_type": "stream",
     "text": [
      "3.0\n"
     ]
    }
   ],
   "source": [
    "a = int(input(\"Enter a \"))\n",
    "b = int(input(\"Enter b \"))\n",
    "\n",
    "\n",
    "avg = (a+b)/2\n",
    "print(avg)"
   ]
  },
  {
   "cell_type": "code",
   "execution_count": 14,
   "metadata": {},
   "outputs": [],
   "source": [
    "import math"
   ]
  },
  {
   "cell_type": "code",
   "execution_count": 15,
   "metadata": {},
   "outputs": [
    {
     "name": "stdout",
     "output_type": "stream",
     "text": [
      "16\n"
     ]
    }
   ],
   "source": [
    "#program to find the square of a number entered by the user\n",
    "\n",
    "b = int(input(\"Enter a number: \"))\n",
    "sqr_b = b**2\n",
    "print(sqr_b)"
   ]
  },
  {
   "cell_type": "code",
   "execution_count": 17,
   "metadata": {},
   "outputs": [
    {
     "name": "stdout",
     "output_type": "stream",
     "text": [
      "Good Afternoon swata swayam dash!\n"
     ]
    }
   ],
   "source": [
    "name = input(\"Enter your name\")\n",
    "print(\"Good Afternoon \"+name+\"!\")"
   ]
  },
  {
   "cell_type": "code",
   "execution_count": 18,
   "metadata": {},
   "outputs": [
    {
     "name": "stdout",
     "output_type": "stream",
     "text": [
      "Dear swayam,\n",
      "You are selected!\n",
      "11/3/24\n"
     ]
    }
   ],
   "source": [
    "name = input(\"Enter your name\")\n",
    "date = \"11/3/24\"\n",
    "\n",
    "letter = \"Dear \"+name+\",\\n\"+\"You are selected!\\n\"+date\n",
    "print(letter)"
   ]
  },
  {
   "cell_type": "code",
   "execution_count": 20,
   "metadata": {},
   "outputs": [
    {
     "name": "stdout",
     "output_type": "stream",
     "text": [
      "akjdn  ad  d\n",
      "5\n"
     ]
    }
   ],
   "source": [
    "#a program to detect double spaces in a string\n",
    "\n",
    "str = input(\"Enter a string\")\n",
    "print(str)\n",
    "print(str.find(\"  \"))"
   ]
  },
  {
   "cell_type": "code",
   "execution_count": 26,
   "metadata": {},
   "outputs": [
    {
     "name": "stdout",
     "output_type": "stream",
     "text": [
      "Dear Harry\n",
      "This course is nice,\n",
      "thanks!\n"
     ]
    }
   ],
   "source": [
    "letter = \"Dear Harry\" +\"\\n\" +\"This course is nice,\\n\" +\"thanks!\"\n",
    "print(letter)"
   ]
  },
  {
   "cell_type": "code",
   "execution_count": 27,
   "metadata": {},
   "outputs": [],
   "source": [
    "#list operations"
   ]
  },
  {
   "cell_type": "code",
   "execution_count": 40,
   "metadata": {},
   "outputs": [
    {
     "name": "stdout",
     "output_type": "stream",
     "text": [
      "[1, 3, 12, 21, 32, 43, 45]\n",
      "[45, 43, 32, 21, 12, 3, 1]\n",
      "21\n"
     ]
    }
   ],
   "source": [
    "l1 = [1,21,12,43,45,32,3]\n",
    "l1.sort()\n",
    "print(l1)\n",
    "l1.reverse()\n",
    "print(l1)\n",
    "print(l1.pop(3))"
   ]
  },
  {
   "cell_type": "code",
   "execution_count": 31,
   "metadata": {},
   "outputs": [
    {
     "name": "stdout",
     "output_type": "stream",
     "text": [
      "3\n"
     ]
    }
   ],
   "source": [
    "a = (11,1,1,1,3,4,5,7,66)\n",
    "print(a.count(1))"
   ]
  },
  {
   "cell_type": "code",
   "execution_count": 32,
   "metadata": {},
   "outputs": [
    {
     "name": "stdout",
     "output_type": "stream",
     "text": [
      "1\n"
     ]
    }
   ],
   "source": [
    "print(a.index(1)) # gives the index of the first occurrence of 1"
   ]
  },
  {
   "cell_type": "code",
   "execution_count": 33,
   "metadata": {},
   "outputs": [],
   "source": [
    "l = []\n",
    "for i in range(7):\n",
    "    a = input(\"Enter a fruit: \")\n",
    "    l.append(a)\n",
    "    "
   ]
  },
  {
   "cell_type": "code",
   "execution_count": 34,
   "metadata": {},
   "outputs": [
    {
     "name": "stdout",
     "output_type": "stream",
     "text": [
      "['banana', 'apple', 'mango', 'laks', 'sad', 'sad', 'dg']\n"
     ]
    }
   ],
   "source": [
    "print(l)"
   ]
  },
  {
   "cell_type": "code",
   "execution_count": 37,
   "metadata": {},
   "outputs": [
    {
     "name": "stdout",
     "output_type": "stream",
     "text": [
      "[1, 3, 4, 6, 12, 12]\n"
     ]
    }
   ],
   "source": [
    "m = []\n",
    "for i in range(6):\n",
    "    x = int(input(\"Enter marks of 6 students: \"))\n",
    "    m.append(x)\n",
    "m.sort()\n",
    "\n",
    "print(m)"
   ]
  },
  {
   "cell_type": "code",
   "execution_count": 43,
   "metadata": {},
   "outputs": [],
   "source": [
    "# t = (1,2,3,4)\n",
    "# t[2] = 6 #error as tuple cannot be changed\n",
    "# print(t)"
   ]
  },
  {
   "cell_type": "code",
   "execution_count": 46,
   "metadata": {},
   "outputs": [
    {
     "name": "stdout",
     "output_type": "stream",
     "text": [
      "10\n"
     ]
    }
   ],
   "source": [
    "s = [1,2,3,4]\n",
    "sum = 0\n",
    "for i in range(4):\n",
    "    sum+=s[i]\n",
    "print(sum)"
   ]
  },
  {
   "cell_type": "code",
   "execution_count": 47,
   "metadata": {},
   "outputs": [
    {
     "name": "stdout",
     "output_type": "stream",
     "text": [
      "3\n"
     ]
    }
   ],
   "source": [
    "a = (7,0,8,0,0,9)\n",
    "print(a.count(0))"
   ]
  },
  {
   "cell_type": "code",
   "execution_count": 48,
   "metadata": {},
   "outputs": [
    {
     "name": "stdout",
     "output_type": "stream",
     "text": [
      "{'idhar': 'here', 'wahan': 'there', 'jao': 'go', 'ek': 1, 'do': 2, 'tin': 3}\n"
     ]
    }
   ],
   "source": [
    "Hindi_English = {\n",
    "    \"idhar\":\"here\",\n",
    "    \"wahan\": \"there\",\n",
    "    \"jao\":\"go\",\n",
    "    \"ek\": 1,\n",
    "    \"do\": 2,\n",
    "    \"tin\": 3\n",
    "}\n",
    "\n",
    "print(Hindi_English)"
   ]
  },
  {
   "cell_type": "code",
   "execution_count": 50,
   "metadata": {},
   "outputs": [
    {
     "name": "stdout",
     "output_type": "stream",
     "text": [
      "Enter 0 to exit\n",
      "3\n",
      "Enter 0 to exit\n"
     ]
    }
   ],
   "source": [
    "for i in range(6):\n",
    "    print(\"Enter 0 to exit\")\n",
    "    choice = int(input(\"Enter your choice\"))\n",
    "    if(choice != 0):        \n",
    "        question = input(\"Enter a hindi word to find its english translation: \")\n",
    "        if(Hindi_English.get(question)):\n",
    "            print(Hindi_English.get(question))\n",
    "        else:\n",
    "            print(\"There is no english translation of \"+question)\n",
    "    else:\n",
    "        break\n",
    "        \n",
    "        \n",
    "    \n",
    "\n",
    "\n"
   ]
  },
  {
   "cell_type": "code",
   "execution_count": 54,
   "metadata": {},
   "outputs": [
    {
     "name": "stdout",
     "output_type": "stream",
     "text": [
      "{1, 3, 4, 5, 6}\n"
     ]
    }
   ],
   "source": [
    "#WAP to input 8 numbers from the user and display all the unique numbers\n",
    "s = set()\n",
    "\n",
    "for i in range(8):\n",
    "    a = int(input(\"Enter 8 numbers: \"))\n",
    "    s.add(a)\n",
    "print(s)"
   ]
  },
  {
   "cell_type": "code",
   "execution_count": 55,
   "metadata": {},
   "outputs": [
    {
     "name": "stdout",
     "output_type": "stream",
     "text": [
      "['18', 18]\n"
     ]
    }
   ],
   "source": [
    "l3 = [\"18\", 18]\n",
    "print(l3)"
   ]
  },
  {
   "cell_type": "code",
   "execution_count": 57,
   "metadata": {},
   "outputs": [
    {
     "name": "stdout",
     "output_type": "stream",
     "text": [
      "{'20', 20}\n",
      "2\n"
     ]
    }
   ],
   "source": [
    "s = set()\n",
    "s.add(\"20\")\n",
    "s.add(20)\n",
    "s.add(20.0)\n",
    "\n",
    "print(s)\n",
    "print(len(s))"
   ]
  },
  {
   "cell_type": "code",
   "execution_count": 59,
   "metadata": {},
   "outputs": [
    {
     "name": "stdout",
     "output_type": "stream",
     "text": [
      "Yes\n"
     ]
    }
   ],
   "source": [
    "age = int(input('Enter age: '))\n",
    "if(age >= 18):\n",
    "    print(\"Yes\")"
   ]
  },
  {
   "cell_type": "code",
   "execution_count": 64,
   "metadata": {},
   "outputs": [
    {
     "name": "stdout",
     "output_type": "stream",
     "text": [
      "999999\n"
     ]
    }
   ],
   "source": [
    "l = []\n",
    "for i in range(4):\n",
    "    c = int(input(\"Enter a number: \"))\n",
    "    l.append(c)\n",
    "l.sort()\n",
    "l.reverse()\n",
    "max = l.pop(0)\n",
    "print(max)\n",
    "    "
   ]
  },
  {
   "cell_type": "code",
   "execution_count": 67,
   "metadata": {},
   "outputs": [
    {
     "name": "stdout",
     "output_type": "stream",
     "text": [
      "pass\n",
      "fail\n"
     ]
    }
   ],
   "source": [
    "total_marks = 0\n",
    "for i in range(3):\n",
    "    marks = int(input(\"Enter the marks in 3 subjects: \"))\n",
    "    if(marks < 33):\n",
    "        print(\"fail\")\n",
    "        break\n",
    "    else:\n",
    "        total_marks = total_marks+marks\n",
    "    if(total_marks < 40):\n",
    "        print(\"fail\")\n",
    "    else:\n",
    "        print(\"pass\")\n",
    "    \n",
    "    "
   ]
  },
  {
   "cell_type": "code",
   "execution_count": 71,
   "metadata": {},
   "outputs": [
    {
     "name": "stdout",
     "output_type": "stream",
     "text": [
      "The mail is spam\n"
     ]
    }
   ],
   "source": [
    "#program to detect a spam email\n",
    "spam_mail = [\"make a lot of money\", \"buy now\", \"subscribe this\", \"click this\"]\n",
    "hug = input(\"Draft a mail\")\n",
    "if(hug in spam_mail):\n",
    "    print(\"The mail is spam\")"
   ]
  },
  {
   "cell_type": "code",
   "execution_count": 69,
   "metadata": {},
   "outputs": [
    {
     "name": "stdout",
     "output_type": "stream",
     "text": [
      "The username has more than 10 characters\n"
     ]
    }
   ],
   "source": [
    "#WAP to find if the username contains less than 10 characters\n",
    "\n",
    "userName = input(\"Enter your username\")\n",
    "if(len(userName)>10):\n",
    "    print('The username has more than 10 characters')"
   ]
  },
  {
   "cell_type": "code",
   "execution_count": 72,
   "metadata": {},
   "outputs": [
    {
     "name": "stdout",
     "output_type": "stream",
     "text": [
      "C\n"
     ]
    }
   ],
   "source": [
    "mark = int(input(\"Enter marks: \"))\n",
    "grade = 'A'\n",
    "if(mark >= 90 and mark <=100):\n",
    "    grade = 'Ex'\n",
    "elif(mark >=80 and mark<90 ):\n",
    "    grade = 'A'\n",
    "elif(mark >=70 and mark <80):\n",
    "    grade = 'B'\n",
    "elif(mark >=60 and mark < 70):\n",
    "    grade = 'C'\n",
    "\n",
    "\n",
    "print(grade)"
   ]
  },
  {
   "cell_type": "code",
   "execution_count": 74,
   "metadata": {},
   "outputs": [
    {
     "name": "stdout",
     "output_type": "stream",
     "text": [
      "S\n",
      "w\n",
      "a\n",
      "t\n",
      "a\n",
      " \n",
      "S\n",
      "w\n",
      "a\n",
      "y\n",
      "a\n",
      "m\n",
      " \n",
      "D\n",
      "a\n",
      "s\n",
      "h\n"
     ]
    }
   ],
   "source": [
    "#traversing a string\n",
    "#using for loop\n",
    "\n",
    "name = \"Swata Swayam Dash\"\n",
    "for i in name:\n",
    "    print(i)"
   ]
  },
  {
   "cell_type": "code",
   "execution_count": 76,
   "metadata": {},
   "outputs": [
    {
     "name": "stdout",
     "output_type": "stream",
     "text": [
      "S\n",
      "w\n",
      "a\n",
      "t\n",
      "a\n",
      " \n",
      "S\n",
      "w\n",
      "a\n",
      "y\n",
      "a\n",
      "m\n",
      " \n",
      "D\n",
      "a\n",
      "s\n",
      "h\n"
     ]
    }
   ],
   "source": [
    "#using list comprehension\n",
    "\n",
    "lst = [char for char in name]\n",
    "for i in lst:\n",
    "    print(i)"
   ]
  },
  {
   "cell_type": "code",
   "execution_count": 81,
   "metadata": {},
   "outputs": [
    {
     "name": "stdout",
     "output_type": "stream",
     "text": [
      "The mail is spam\n"
     ]
    }
   ],
   "source": [
    "#program to check if an email is spam or not\n",
    "\n",
    "spam_mail = [\"money double\", \"subscribe this\", \"2x returns\", \"investment\", \"whiskey\"]\n",
    "\n",
    "mail_entered = input(\"Enter a mail\")\n",
    "#the find function gives us the index of the first occurrence of the character which is present in the string , if it returns -1 then the character is not present in the string\n",
    "for i in spam_mail:\n",
    "    if(mail_entered.find(i)!= -1):\n",
    "        print(\"The mail is spam\")"
   ]
  },
  {
   "cell_type": "code",
   "execution_count": 83,
   "metadata": {},
   "outputs": [
    {
     "name": "stdout",
     "output_type": "stream",
     "text": [
      "tes\n"
     ]
    }
   ],
   "source": [
    "print(mail_entered[-3:]) #this prints the last 3 characters"
   ]
  },
  {
   "cell_type": "code",
   "execution_count": 85,
   "metadata": {},
   "outputs": [
    {
     "name": "stdout",
     "output_type": "stream",
     "text": [
      "te\n"
     ]
    }
   ],
   "source": [
    "print(mail_entered[-3:-1]) #it prints the last 2 characters present in the string"
   ]
  },
  {
   "cell_type": "code",
   "execution_count": 92,
   "metadata": {},
   "outputs": [
    {
     "name": "stdout",
     "output_type": "stream",
     "text": [
      "                            swata swayam dash               \n",
      "                            SWATA SWAYAM DASH               \n",
      "                            swata swayam dash               \n",
      "                            swata swayam dash               \n",
      "swata swayam dash\n"
     ]
    }
   ],
   "source": [
    "#string modification\n",
    "\n",
    "name6 = \"                            swata swayam dash               \"\n",
    "print(name6)\n",
    "capital = name6.upper()\n",
    "lower = name6.lower()\n",
    "firstLetterCaps = name6.capitalize()\n",
    "noSpace = name6.strip()\n",
    "print(capital)\n",
    "print(lower)\n",
    "print(firstLetterCaps)\n",
    "print(noSpace)\n",
    "#there would be no changes in the original string"
   ]
  },
  {
   "cell_type": "code",
   "execution_count": 96,
   "metadata": {},
   "outputs": [
    {
     "name": "stdout",
     "output_type": "stream",
     "text": [
      "hey this is something which is indeed delicious and add wine in it and drink, You are my something something hello honey bunny\n",
      "hey this is apple which is indeed delicious and add wine in it and drink, You are my apple something hello honey bunny\n"
     ]
    }
   ],
   "source": [
    "name5 = \"hey this is something which is indeed delicious and add wine in it and drink, You are my something something hello honey bunny\"\n",
    "replaceStr = name5.replace(\"something\", \"apple\", 2)\n",
    "print(name5)\n",
    "print(replaceStr)"
   ]
  },
  {
   "cell_type": "code",
   "execution_count": 110,
   "metadata": {},
   "outputs": [
    {
     "name": "stdout",
     "output_type": "stream",
     "text": [
      "hey this yeah doing good no but there is some\n",
      "['hey', 'this', 'yeah', 'doing', 'good', 'no', 'but', 'there', 'is', 'some']\n",
      "['apple ', ' banana ', ' mango ', ' GUAVA ', ' sambar']\n"
     ]
    }
   ],
   "source": [
    "fast = \"hey this yeah doing good no but there is some\"\n",
    "\n",
    "fastSplit = fast.split()\n",
    "print(fast)\n",
    "print(fastSplit)\n",
    "\n",
    "more = \"apple , banana , mango , GUAVA , sambar\"\n",
    "fruits = more.split(\",\")\n",
    "print(fruits)"
   ]
  },
  {
   "cell_type": "code",
   "execution_count": 112,
   "metadata": {},
   "outputs": [
    {
     "name": "stdout",
     "output_type": "stream",
     "text": [
      "the marks obtained by Swata swayam dash , is 98\n"
     ]
    }
   ],
   "source": [
    "#string formating\n",
    "student_name = \"swata swayam dash\" \n",
    "student_marks = 98\n",
    "\n",
    "\n",
    "para = \"the marks obtained by {s} , is {m}\".format(s = student_name.capitalize(), m= student_marks)\n",
    "print(para)"
   ]
  },
  {
   "cell_type": "code",
   "execution_count": 2,
   "metadata": {},
   "outputs": [],
   "source": [
    "#program to check if a string is talking about swayam or not\n",
    "\n",
    "s = input(\"Enter a string\")\n",
    "if(s.find(\"swayam\") != -1):\n",
    "    print(\"The given text is talking about the most intelligent ,passionate , richest developer in the world Swayam\")"
   ]
  },
  {
   "cell_type": "code",
   "execution_count": 3,
   "metadata": {},
   "outputs": [
    {
     "name": "stdout",
     "output_type": "stream",
     "text": [
      "5 * 1 = 5\n",
      "5 * 2 = 10\n",
      "5 * 3 = 15\n",
      "5 * 4 = 20\n",
      "5 * 5 = 25\n",
      "5 * 6 = 30\n",
      "5 * 7 = 35\n",
      "5 * 8 = 40\n",
      "5 * 9 = 45\n",
      "5 * 10 = 50\n"
     ]
    }
   ],
   "source": [
    "#multiplication of a given number using for loop\n",
    "\n",
    "num = int(input(\"Enter a number: \"))\n",
    "for i in range(1,11):\n",
    "    print(\"{number} * {multiplier} = {product}\".format(number = num, multiplier = i , product = num*i))\n",
    "    "
   ]
  },
  {
   "cell_type": "code",
   "execution_count": 11,
   "metadata": {},
   "outputs": [
    {
     "name": "stdout",
     "output_type": "stream",
     "text": [
      "Good afternoon  swayam \n",
      "mr. aditya you don't deserve a good afternoon ;)\n",
      "Good afternoon  shobik\n",
      "mr. rishi you don't deserve a good afternoon ;)\n",
      "mr. piyush you don't deserve a good afternoon ;)\n"
     ]
    }
   ],
   "source": [
    "#program to greet all the members whose names start with 'S'\n",
    "\n",
    "ll = [\"swayam \", \"aditya\", \"shobik\", \"rishi\", \"piyush\"]\n",
    "\n",
    "for names in ll:\n",
    "    if(names.startswith('s')):\n",
    "        print(\"Good afternoon \", names)\n",
    "    else:\n",
    "        print(\"mr. {naam} you don't deserve a good afternoon ;)\".format(naam = names))"
   ]
  },
  {
   "cell_type": "code",
   "execution_count": 13,
   "metadata": {},
   "outputs": [
    {
     "name": "stdout",
     "output_type": "stream",
     "text": [
      "mr. piyush you don't deserve a good afternoon ;)\n",
      "mr. rishi you don't deserve a good afternoon ;)\n",
      "Good afternoon  shobik\n",
      "mr. aditya you don't deserve a good afternoon ;)\n",
      "Good afternoon  swayam \n"
     ]
    }
   ],
   "source": [
    "count = len(ll)-1\n",
    "while (count != -1):\n",
    "    if(ll[count].startswith('s')):\n",
    "        print(\"Good afternoon \", ll[count])\n",
    "    else:\n",
    "        print(\"mr. {naam} you don't deserve a good afternoon ;)\".format(naam = ll[count]))\n",
    "    count = count - 1"
   ]
  },
  {
   "cell_type": "code",
   "execution_count": 24,
   "metadata": {},
   "outputs": [
    {
     "name": "stdout",
     "output_type": "stream",
     "text": [
      "The given number is prime\n"
     ]
    }
   ],
   "source": [
    "#program to find a given number is prime or not\n",
    "\n",
    "num = int(input(\"Enter a number: \"))\n",
    "divisor = 0\n",
    "\n",
    "if(num == 0):\n",
    "    print(\"The number is neither prime nor composite\")\n",
    "    \n",
    "if(num != 0):\n",
    "    \n",
    "    for i in range(2,num-1):\n",
    "        if(num % i == 0):\n",
    "            divisor+=1\n",
    "    if(divisor >= 1):\n",
    "        print(\"The given number is not prime\")\n",
    "    else:\n",
    "        print('The given number is prime')"
   ]
  },
  {
   "cell_type": "code",
   "execution_count": 30,
   "metadata": {},
   "outputs": [
    {
     "name": "stdout",
     "output_type": "stream",
     "text": [
      "The sum of -1 whole numbers is 0\n"
     ]
    }
   ],
   "source": [
    "#sum of first n whole numbers using while loop\n",
    "\n",
    "n = int(input(\"Enter a number: \"))\n",
    "m = n\n",
    "sum = 0\n",
    "while(n >= 0):\n",
    "    sum = sum + n\n",
    "    n = n-1\n",
    "print(\"The sum of {num} whole numbers is {summation}\".format(num=m, summation = sum))"
   ]
  },
  {
   "cell_type": "code",
   "execution_count": 37,
   "metadata": {},
   "outputs": [
    {
     "name": "stdout",
     "output_type": "stream",
     "text": [
      "The factorial of 5 is 120\n"
     ]
    }
   ],
   "source": [
    "#factorial of a given number using for loop\n",
    "\n",
    "n = int(input(\"Enter a number: \"))\n",
    "fact = 1\n",
    "i = n\n",
    "if(n == 0):\n",
    "    print(\"The factorial of {num} is {factorial}\".format(num =n, factorial = 1))\n",
    "if(n != 0):\n",
    "    \n",
    "    while(i > 0):\n",
    "        fact = fact * i\n",
    "        i = i-1\n",
    "    print(\"The factorial of {num} is {factorial}\".format(num =n, factorial = fact))"
   ]
  },
  {
   "cell_type": "code",
   "execution_count": 38,
   "metadata": {},
   "outputs": [
    {
     "name": "stdout",
     "output_type": "stream",
     "text": [
      "*\n",
      "*\n",
      "*\n",
      "*\n",
      "*\n",
      "*\n"
     ]
    }
   ],
   "source": [
    "#pyramid star pattern for n = 3\n",
    "for i in range(3):\n",
    "    for j in range(i+1):\n",
    "        print('*')\n",
    "        "
   ]
  },
  {
   "cell_type": "code",
   "execution_count": 41,
   "metadata": {},
   "outputs": [
    {
     "name": "stdout",
     "output_type": "stream",
     "text": [
      "5 * 10 = 50\n",
      "5 * 9 = 45\n",
      "5 * 8 = 40\n",
      "5 * 7 = 35\n",
      "5 * 6 = 30\n",
      "5 * 5 = 25\n",
      "5 * 4 = 20\n",
      "5 * 3 = 15\n",
      "5 * 2 = 10\n",
      "5 * 1 = 5\n"
     ]
    }
   ],
   "source": [
    "#multiplication table in reversed order\n",
    "\n",
    "num = int(input(\"Enter a number: \"))\n",
    "i = 10\n",
    "while(i > 0):\n",
    "    print(\"{number} * {mul} = {prod}\".format(number=num , mul = i , prod = num * i))\n",
    "    i = i-1"
   ]
  },
  {
   "cell_type": "code",
   "execution_count": 57,
   "metadata": {},
   "outputs": [
    {
     "name": "stdout",
     "output_type": "stream",
     "text": [
      "10\n"
     ]
    }
   ],
   "source": [
    "def greatest(a, b, c):\n",
    "    if(a>b and a>c):\n",
    "        return a\n",
    "    elif(b>a and b>c):\n",
    "        return b\n",
    "    elif(c>a and c>b):\n",
    "        return c\n",
    "    elif(a==b and a==c):\n",
    "        return a\n",
    "    elif(b==c and b>a):\n",
    "        return b\n",
    "    else:\n",
    "        return c\n",
    "print(greatest(9,9,10))\n",
    "    \n"
   ]
  },
  {
   "cell_type": "code",
   "execution_count": 58,
   "metadata": {},
   "outputs": [
    {
     "name": "stdout",
     "output_type": "stream",
     "text": [
      "100.4\n"
     ]
    }
   ],
   "source": [
    "def celToFar(cel):\n",
    "    far = (cel *9/5)+32\n",
    "    return far\n",
    "print(celToFar(38))"
   ]
  },
  {
   "cell_type": "code",
   "execution_count": 70,
   "metadata": {},
   "outputs": [
    {
     "name": "stdout",
     "output_type": "stream",
     "text": [
      "55\n"
     ]
    }
   ],
   "source": [
    "#rescursive function to calculate the sum of first n natural numbers\n",
    "\n",
    "def sum(n):\n",
    "    if(n<0):\n",
    "        return 0\n",
    "    if(n==0 or n==1):\n",
    "        return n\n",
    "    else:\n",
    "        return n + sum(n-1)\n",
    "    \n",
    "print(sum(10))"
   ]
  },
  {
   "cell_type": "code",
   "execution_count": 72,
   "metadata": {},
   "outputs": [
    {
     "name": "stdout",
     "output_type": "stream",
     "text": [
      "5.08\n"
     ]
    }
   ],
   "source": [
    "def convertInchToCm(n):\n",
    "    return n * 2.54\n",
    "\n",
    "print(convertInchToCm(2))"
   ]
  },
  {
   "cell_type": "code",
   "execution_count": 77,
   "metadata": {},
   "outputs": [
    {
     "name": "stdout",
     "output_type": "stream",
     "text": [
      "The removed word is  mitwa\n",
      "None\n"
     ]
    }
   ],
   "source": [
    "#function to remove a word from the list and strip it at the same time\n",
    "ll = [\"arambh\", \"vardaan\", \"mitwa\", \"hoshla\"]\n",
    "def remove(word):\n",
    "    removedWord = ll.pop(ll.index(word))\n",
    "    print(\"The removed word is \", removedWord.strip())\n",
    "    \n",
    "print(remove(\"mitwa\"))"
   ]
  },
  {
   "cell_type": "code",
   "execution_count": 78,
   "metadata": {},
   "outputs": [
    {
     "name": "stdout",
     "output_type": "stream",
     "text": [
      "8*1 = 8\n",
      "8*2 = 16\n",
      "8*3 = 24\n",
      "8*4 = 32\n",
      "8*5 = 40\n",
      "8*6 = 48\n",
      "8*7 = 56\n",
      "8*8 = 64\n",
      "8*9 = 72\n",
      "8*10 = 80\n"
     ]
    }
   ],
   "source": [
    "#function to print the multilication table of a given number\n",
    "\n",
    "def mul(n):\n",
    "    for i in range(1,11):\n",
    "        print(\"{n}*{i} = {prod}\".format(n = n , i = i, prod = n*i))\n",
    "mul(8)"
   ]
  },
  {
   "cell_type": "code",
   "execution_count": null,
   "metadata": {},
   "outputs": [],
   "source": []
  },
  {
   "cell_type": "code",
   "execution_count": 81,
   "metadata": {},
   "outputs": [
    {
     "name": "stdout",
     "output_type": "stream",
     "text": [
      "Microsoft\n"
     ]
    }
   ],
   "source": [
    "class Employee:\n",
    "    company = \"google\"\n",
    "\n",
    "harry = Employee()\n",
    "harry.company = \"Microsoft\"\n",
    "\n",
    "print(harry.company)\n",
    "\n",
    "harry.name = \"harry\"\n",
    "harry.salary = \"30k\"\n",
    "\n"
   ]
  },
  {
   "cell_type": "code",
   "execution_count": null,
   "metadata": {},
   "outputs": [],
   "source": []
  }
 ],
 "metadata": {
  "kernelspec": {
   "display_name": "Python 3",
   "language": "python",
   "name": "python3"
  },
  "language_info": {
   "codemirror_mode": {
    "name": "ipython",
    "version": 3
   },
   "file_extension": ".py",
   "mimetype": "text/x-python",
   "name": "python",
   "nbconvert_exporter": "python",
   "pygments_lexer": "ipython3",
   "version": "3.11.1"
  }
 },
 "nbformat": 4,
 "nbformat_minor": 2
}
