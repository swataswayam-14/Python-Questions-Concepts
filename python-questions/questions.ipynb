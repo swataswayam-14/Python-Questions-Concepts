{
 "cells": [
  {
   "cell_type": "markdown",
   "metadata": {},
   "source": [
    "### Create a program that takes a sentence as input and counts the frequency of each word in the sentence, ignoring case sensitivity and punctuation.\n"
   ]
  },
  {
   "cell_type": "code",
   "execution_count": 4,
   "metadata": {},
   "outputs": [
    {
     "name": "stdout",
     "output_type": "stream",
     "text": [
      "{'hello': 2, ',': 2, 'it': 2, 'here': 1, 'my': 1, 'name': 1, 'is': 1}\n"
     ]
    }
   ],
   "source": [
    "def count_words(s):\n",
    "    freq = {}\n",
    "    wordsArray = s.lower().split()\n",
    "    for word in wordsArray:\n",
    "        if word not in freq:\n",
    "            freq[word] = 1\n",
    "        else:\n",
    "            freq[word] += 1\n",
    "    print(freq)\n",
    "\n",
    "count_words(\"hello , it here , hello my name is it\")"
   ]
  },
  {
   "cell_type": "markdown",
   "metadata": {},
   "source": [
    "### frequency of each word in the sentence , ignoring case sensitivity and punctuation"
   ]
  },
  {
   "cell_type": "code",
   "execution_count": 6,
   "metadata": {},
   "outputs": [
    {
     "name": "stdout",
     "output_type": "stream",
     "text": [
      "{'hello': 1, 'me': 1, 'an': 1, 'angel': 1, 'for': 1, 'in': 1, 'three': 1, 'four': 1, 'gib': 1}\n"
     ]
    }
   ],
   "source": [
    "import string\n",
    "def count_word_frequency(sentence):\n",
    "    freq = {}\n",
    "    sentence = sentence.lower()\n",
    "    \n",
    "    for char in string.punctuation:\n",
    "        sentence = sentence.replace(char , ' ')\n",
    "        \n",
    "    \n",
    "    words = sentence.split()\n",
    "    \n",
    "    for word in words:\n",
    "        if word not in freq:\n",
    "            freq[word] = 1\n",
    "        else:\n",
    "            freq[word] += 1\n",
    "    return freq\n",
    "\n",
    "print(count_word_frequency(\"Hello , ! me an angel for in , three four gib,,,,,,,\"))"
   ]
  },
  {
   "cell_type": "markdown",
   "metadata": {},
   "source": [
    "### Write a Python function that takes a string as input and returns the reverse of the string without using any built-in reverse functions."
   ]
  },
  {
   "cell_type": "code",
   "execution_count": 7,
   "metadata": {},
   "outputs": [
    {
     "name": "stdout",
     "output_type": "stream",
     "text": [
      "yalllos\n"
     ]
    }
   ],
   "source": [
    "def reverseString(s):\n",
    "    rev = \"\"\n",
    "    lst = []\n",
    "    for i in range(len(s)):\n",
    "        lst.append(s[i])\n",
    "    lst = lst[::-1]\n",
    "    for c in lst:\n",
    "        rev = rev+c\n",
    "    return rev\n",
    "\n",
    "print(reverseString(\"solllay\"))\n",
    "    "
   ]
  },
  {
   "cell_type": "code",
   "execution_count": 8,
   "metadata": {},
   "outputs": [
    {
     "name": "stdout",
     "output_type": "stream",
     "text": [
      "yalllos\n"
     ]
    }
   ],
   "source": [
    "def reverse_string(s):\n",
    "    reversed_s = ''\n",
    "    for i in range(len(s)-1, -1, -1):\n",
    "        reversed_s += s[i]\n",
    "    return reversed_s\n",
    "\n",
    "print(reverse_string(\"solllay\"))"
   ]
  },
  {
   "cell_type": "markdown",
   "metadata": {},
   "source": [
    "### Implement a function that takes two strings as input and determines if they are anagrams of each other (contain the same characters in a different order)."
   ]
  },
  {
   "cell_type": "code",
   "execution_count": 19,
   "metadata": {},
   "outputs": [
    {
     "name": "stdout",
     "output_type": "stream",
     "text": [
      "True\n"
     ]
    }
   ],
   "source": [
    "def check_anagram(s1,s2):\n",
    "    lst1 = []\n",
    "    lst2 = []\n",
    "    s1 = s1.replace(\" \", \"\").lower()\n",
    "    s2 = s2.replace(\" \", \"\").lower()\n",
    "    if(len(s1) != len(s2)):\n",
    "        return False\n",
    "    else:\n",
    "        for i in range(len(s1)):\n",
    "            lst1.append(s1[i])\n",
    "        for i in range(len(s2)):\n",
    "            lst2.append(s2[i])\n",
    "        for c in lst1:\n",
    "            if c not in lst2:\n",
    "                return False\n",
    "        return True\n",
    "\n",
    "print(check_anagram('    eabcgd', 'eadcgb'))\n",
    "    "
   ]
  },
  {
   "cell_type": "code",
   "execution_count": 21,
   "metadata": {},
   "outputs": [
    {
     "name": "stdout",
     "output_type": "stream",
     "text": [
      "False\n"
     ]
    }
   ],
   "source": [
    "def is_anagram(str1 , str2):\n",
    "    str1 = str1.replace(\" \", \"\").lower()\n",
    "    str2 = str2.replace(\" \", \"\").lower()\n",
    "    \n",
    "    if(len(str1) != len(str2)):\n",
    "        return False\n",
    "    return sorted(str1) == sorted(str2)\n",
    "print(is_anagram('    ecblgd', 'eadcgb'))"
   ]
  },
  {
   "cell_type": "markdown",
   "metadata": {},
   "source": [
    "# OOP concepts"
   ]
  },
  {
   "cell_type": "markdown",
   "metadata": {},
   "source": [
    "### Explain the concept of encapsulation in Python and how it relates to data hiding and access control. Provide a detailed example demonstrating how encapsulation can be used to protect data within a class and ensure proper access to class attributes."
   ]
  },
  {
   "cell_type": "code",
   "execution_count": 22,
   "metadata": {},
   "outputs": [
    {
     "name": "stdout",
     "output_type": "stream",
     "text": [
      "balance is 1000\n",
      "Deposited 1000. New Balance: 2000\n",
      "Withdrew 500. New Balance: 1500\n",
      "balance is 1500\n"
     ]
    }
   ],
   "source": [
    "class BankAccount:\n",
    "    def __init__(self, account_number , balance):\n",
    "        self._account_number = account_number # protected attribute\n",
    "        self.__balance = balance #private attribute\n",
    "        \n",
    "    def deposit(self, amount):\n",
    "        self.__balance += amount\n",
    "        print(f\"Deposited {amount}. New Balance: {self.__balance}\")\n",
    "    def withdraw(self, amount):\n",
    "        if amount <= self.__balance:\n",
    "            self.__balance -= amount\n",
    "            print(f\"Withdrew {amount}. New Balance: {self.__balance}\")\n",
    "        else:\n",
    "            print(\"Insufficent balance\")\n",
    "        \n",
    "    def getBalance(self):\n",
    "        return self.__balance\n",
    "\n",
    "account = BankAccount(\"12412412\", 1000)\n",
    "\n",
    "print(f\"balance is {account.getBalance()}\")\n",
    "\n",
    "account.deposit(1000)\n",
    "account.withdraw(500)\n",
    "\n",
    "print(f\"balance is {account.getBalance()}\")"
   ]
  },
  {
   "cell_type": "markdown",
   "metadata": {},
   "source": [
    "##### The deposit and withdraw methods allow controlled access to modify the balance attribute, while the get_balance method provides read-only access to the private balance attribute. This ensures data hiding and access control, protecting the internal state of the BankAccount object."
   ]
  },
  {
   "cell_type": "markdown",
   "metadata": {},
   "source": [
    "### Create a Python program that models a banking system using OOP principles. Implement classes for Account, SavingsAccount, and CheckingAccount with appropriate attributes and methods. Show how inheritance is used to create specialized account types."
   ]
  },
  {
   "cell_type": "code",
   "execution_count": 30,
   "metadata": {},
   "outputs": [
    {
     "name": "stdout",
     "output_type": "stream",
     "text": [
      "Deposited 500. New balance: 1500\n",
      "Deposited 45.0. New balance: 1545.0\n",
      "Added interest of 45.0. New balance: 1545.0\n",
      "Deposited -300. New balance: 200\n",
      "Withdrew 300. New balance: 200\n",
      "Deposited -400. New balance: -200\n",
      "Withdrew 400. New balance: -200\n"
     ]
    }
   ],
   "source": [
    "class Account:\n",
    "    def __init__(self, account_number, balance=0):\n",
    "        self._account_number = account_number\n",
    "        self.__balance = balance\n",
    "\n",
    "    def deposit(self, amount):\n",
    "        self.__balance += amount\n",
    "        print(f\"Deposited {amount}. New balance: {self.__balance}\")\n",
    "\n",
    "    def withdraw(self, amount):\n",
    "        if amount <= self.__balance:\n",
    "            self.__balance -= amount\n",
    "            print(f\"Withdrew {amount}. New balance: {self.__balance}\")\n",
    "        else:\n",
    "            print(\"Insufficient funds\")\n",
    "\n",
    "    def get_balance(self):\n",
    "        return self.__balance\n",
    "\n",
    "class SavingsAccount(Account):\n",
    "    def __init__(self, account_number, balance=0, interest_rate=0.02):\n",
    "        super().__init__(account_number, balance)\n",
    "        self.interest_rate = interest_rate\n",
    "\n",
    "    def add_interest(self):\n",
    "        interest = self.get_balance() * self.interest_rate\n",
    "        self.deposit(interest)   #Error: -> self.__balance += interest\n",
    "        print(f\"Added interest of {interest}. New balance: {self.get_balance()}\")\n",
    "\n",
    "class CheckingAccount(Account):\n",
    "    def __init__(self, account_number, balance=0, overdraft_limit=100):\n",
    "        super().__init__(account_number, balance)\n",
    "        self.overdraft_limit = overdraft_limit\n",
    "\n",
    "    def withdraw(self, amount):\n",
    "        if amount <= self.get_balance() + self.overdraft_limit:\n",
    "            self.deposit(-1*amount)\n",
    "            print(f\"Withdrew {amount}. New balance: {self.get_balance()}\")\n",
    "        else:\n",
    "            print(\"Exceeded overdraft limit\")\n",
    "\n",
    "# Create instances of SavingsAccount and CheckingAccount\n",
    "savings_account = SavingsAccount(\"SA123\", 1000, 0.03)\n",
    "checking_account = CheckingAccount(\"CA456\", 500, 200)\n",
    "\n",
    "# Deposit, withdraw, and add interest\n",
    "savings_account.deposit(500)\n",
    "savings_account.add_interest()\n",
    "checking_account.withdraw(300)\n",
    "checking_account.withdraw(400)"
   ]
  },
  {
   "cell_type": "markdown",
   "metadata": {},
   "source": [
    "### Implement a class hierarchy in Python for different shapes (e.g., Circle, Square, Triangle) where each shape has a method to calculate its area. Show how polymorphism can be achieved by calling the area calculation method on objects of different shape classes."
   ]
  },
  {
   "cell_type": "code",
   "execution_count": 31,
   "metadata": {},
   "outputs": [
    {
     "name": "stdout",
     "output_type": "stream",
     "text": [
      "The area of the Circle is 78.54\n",
      "The area of the Triangle is 24.00\n",
      "The area of the Square is 16.00\n"
     ]
    }
   ],
   "source": [
    "from math import pi\n",
    "\n",
    "class Shape:\n",
    "    def calculate_area(self):\n",
    "        pass\n",
    "\n",
    "class Circle(Shape):\n",
    "    def __init__(self, radius):\n",
    "        self.radius = radius\n",
    "    def calculate_area(self):\n",
    "        return pi*self.radius * self.radius\n",
    "    \n",
    "class Triangle(Shape):\n",
    "    def __init__(self, base , height):\n",
    "        self.base = base\n",
    "        self.height = height\n",
    "    def calculate_area(self):\n",
    "        return 0.5 * self.base * self.height\n",
    "class Square(Shape):\n",
    "    def __init__(self, sidelength):\n",
    "        self.sidelength = sidelength\n",
    "    def calculate_area(self):\n",
    "        return self.sidelength ** 2\n",
    "    \n",
    "shapes = [\n",
    "    Circle(5),\n",
    "    Triangle(6,8),\n",
    "    Square(4)\n",
    "]\n",
    "\n",
    "for shape in shapes:\n",
    "    print(f\"The area of the {type(shape).__name__} is {shape.calculate_area():.2f}\")"
   ]
  },
  {
   "cell_type": "markdown",
   "metadata": {},
   "source": [
    "### Discuss the difference between method overloading and method overriding in Python. Provide examples to illustrate each concept and explain when each would be used in practice."
   ]
  },
  {
   "cell_type": "markdown",
   "metadata": {},
   "source": [
    "#### Method Overloading example:-"
   ]
  },
  {
   "cell_type": "code",
   "execution_count": 32,
   "metadata": {},
   "outputs": [
    {
     "name": "stdout",
     "output_type": "stream",
     "text": [
      "10\n",
      "30\n"
     ]
    }
   ],
   "source": [
    "class MyClass:\n",
    "    def my_method(self, arg1, arg2=None):\n",
    "        if arg2:\n",
    "            print(arg1+arg2)\n",
    "        else:\n",
    "            print(arg1)\n",
    "\n",
    "obj = MyClass()\n",
    "obj.my_method(10) # calling the function with 1 argument\n",
    "\n",
    "obj.my_method(10,20) # calling the function with 2 arguments"
   ]
  },
  {
   "cell_type": "markdown",
   "metadata": {},
   "source": [
    "#### Method Overriding example"
   ]
  },
  {
   "cell_type": "code",
   "execution_count": 33,
   "metadata": {},
   "outputs": [
    {
     "name": "stdout",
     "output_type": "stream",
     "text": [
      "Modified function of class A by class B\n"
     ]
    }
   ],
   "source": [
    "class A:\n",
    "    def func1(self):\n",
    "        print(\"Original function of class A\")\n",
    "    \n",
    "class B(A):\n",
    "    def func1(self):\n",
    "        print(\"Modified function of class A by class B\")\n",
    "\n",
    "obj = B()\n",
    "obj.func1() #calling the overriden function\n"
   ]
  },
  {
   "cell_type": "markdown",
   "metadata": {},
   "source": [
    "# Recursion"
   ]
  },
  {
   "cell_type": "markdown",
   "metadata": {},
   "source": [
    "### Write a recursive function in Python to calculate the factorial of a given number. Ensure your function handles edge cases like 0 and negative numbers."
   ]
  },
  {
   "cell_type": "code",
   "execution_count": 41,
   "metadata": {},
   "outputs": [
    {
     "name": "stdout",
     "output_type": "stream",
     "text": [
      "402387260077093773543702433923003985719374864210714632543799910429938512398629020592044208486969404800479988610197196058631666872994808558901323829669944590997424504087073759918823627727188732519779505950995276120874975462497043601418278094646496291056393887437886487337119181045825783647849977012476632889835955735432513185323958463075557409114262417474349347553428646576611667797396668820291207379143853719588249808126867838374559731746136085379534524221586593201928090878297308431392844403281231558611036976801357304216168747609675871348312025478589320767169132448426236131412508780208000261683151027341827977704784635868170164365024153691398281264810213092761244896359928705114964975419909342221566832572080821333186116811553615836546984046708975602900950537616475847728421889679646244945160765353408198901385442487984959953319101723355556602139450399736280750137837615307127761926849034352625200015888535147331611702103968175921510907788019393178114194545257223865541461062892187960223838971476088506276862967146674697562911234082439208160153780889893964518263243671616762179168909779911903754031274622289988005195444414282012187361745992642956581746628302955570299024324153181617210465832036786906117260158783520751516284225540265170483304226143974286933061690897968482590125458327168226458066526769958652682272807075781391858178889652208164348344825993266043367660176999612831860788386150279465955131156552036093988180612138558600301435694527224206344631797460594682573103790084024432438465657245014402821885252470935190620929023136493273497565513958720559654228749774011413346962715422845862377387538230483865688976461927383814900140767310446640259899490222221765904339901886018566526485061799702356193897017860040811889729918311021171229845901641921068884387121855646124960798722908519296819372388642614839657382291123125024186649353143970137428531926649875337218940694281434118520158014123344828015051399694290153483077644569099073152433278288269864602789864321139083506217095002597389863554277196742822248757586765752344220207573630569498825087968928162753848863396909959826280956121450994871701244516461260379029309120889086942028510640182154399457156805941872748998094254742173582401063677404595741785160829230135358081840096996372524230560855903700624271243416909004153690105933983835777939410970027753472000000000000000000000000000000000000000000000000000000000000000000000000000000000000000000000000000000000000000000000000000000000000000000000000000000000000000000000000000000000000000000000000000000000000000000000000000000000000000000000000000000000\n"
     ]
    }
   ],
   "source": [
    "def calcFact(n):\n",
    "    if(n == 0 or n == 1):\n",
    "        return 1\n",
    "    if n < 0 :\n",
    "        print(\"Negative numbers are not allowed\")\n",
    "        return -1\n",
    "    else:\n",
    "        return n * calcFact(n-1)\n",
    "\n",
    "print(calcFact(1000))"
   ]
  },
  {
   "cell_type": "markdown",
   "metadata": {},
   "source": [
    "### Implement a recursive function to find the nth Fibonacci number in Python. Discuss the time complexity of your solution and any optimizations that can be made."
   ]
  },
  {
   "cell_type": "code",
   "execution_count": 50,
   "metadata": {},
   "outputs": [
    {
     "name": "stdout",
     "output_type": "stream",
     "text": [
      "8\n"
     ]
    }
   ],
   "source": [
    "def findNthFib(n):\n",
    "    if(n == 0 or n == 1):\n",
    "        return n\n",
    "    return findNthFib(n-1) + findNthFib(n-2)\n",
    "\n",
    "print(findNthFib(6))"
   ]
  },
  {
   "cell_type": "markdown",
   "metadata": {},
   "source": [
    "### Create a recursive function that generates all possible permutations of a given list of elements in Python. Discuss the efficiency of your solution and any potential improvements."
   ]
  },
  {
   "cell_type": "code",
   "execution_count": 55,
   "metadata": {},
   "outputs": [
    {
     "name": "stdout",
     "output_type": "stream",
     "text": [
      "[1, 2, 3]\n",
      "[1, 3, 2]\n",
      "[2, 1, 3]\n",
      "[2, 3, 1]\n",
      "[3, 1, 2]\n",
      "[3, 2, 1]\n"
     ]
    }
   ],
   "source": [
    "def generate_permutation(elements, current_permutation = []):\n",
    "    if not elements:\n",
    "        print(current_permutation)\n",
    "    else:\n",
    "        for i in range(len(elements)):\n",
    "            new_elements = elements[:i] + elements[i+1:]\n",
    "            new_permutation = current_permutation + [elements[i]]\n",
    "            generate_permutation(new_elements, new_permutation)\n",
    "            \n",
    "            \n",
    "elements = [1, 2, 3]\n",
    "generate_permutation(elements)"
   ]
  },
  {
   "cell_type": "markdown",
   "metadata": {},
   "source": [
    "### Develop a recursive function to find the greatest common divisor (GCD) of two numbers using the Euclidean algorithm in Python. Discuss the algorithm's efficiency and how recursion simplifies the GCD calculation process."
   ]
  },
  {
   "cell_type": "code",
   "execution_count": 56,
   "metadata": {},
   "outputs": [
    {
     "name": "stdout",
     "output_type": "stream",
     "text": [
      "The GCD of 48 and 18 is: 6\n"
     ]
    }
   ],
   "source": [
    "def gcd(a,b):\n",
    "    if b == 0:\n",
    "        return a\n",
    "    else:\n",
    "        return gcd(b,a%b)\n",
    "\n",
    "num1 = 48\n",
    "num2 = 18\n",
    "result = gcd(num1, num2)\n",
    "print(f\"The GCD of {num1} and {num2} is: {result}\")"
   ]
  },
  {
   "cell_type": "code",
   "execution_count": null,
   "metadata": {},
   "outputs": [],
   "source": [
    "def gcd(a, b):\n",
    "    while b != 0:\n",
    "        a, b = b, a % b\n",
    "    return a\n",
    "\n",
    "num1 = 48\n",
    "num2 = 18\n",
    "result = gcd(num1, num2)\n",
    "print(f\"The GCD of {num1} and {num2} is: {result}\")\n"
   ]
  },
  {
   "cell_type": "markdown",
   "metadata": {},
   "source": [
    "# File Handeling"
   ]
  },
  {
   "cell_type": "markdown",
   "metadata": {},
   "source": [
    "### Write a Python function that reads a text file named \"data.txt\" and returns the total number of lines in the file. If the file does not exist, it should return an error message."
   ]
  },
  {
   "cell_type": "code",
   "execution_count": 2,
   "metadata": {},
   "outputs": [
    {
     "name": "stdout",
     "output_type": "stream",
     "text": [
      "19\n"
     ]
    }
   ],
   "source": [
    "def get_line_count(file_name):\n",
    "    try:\n",
    "        with open(file_name, 'r') as file:\n",
    "            line_count = len(file.readlines())\n",
    "        return line_count\n",
    "    except FileNotFoundError:\n",
    "        return f\"The file {file_name} does not exists\"\n",
    "    except Exception as e:\n",
    "        return f\"Error: {e}\"\n",
    "    \n",
    "print(get_line_count('data.txt'))"
   ]
  },
  {
   "cell_type": "markdown",
   "metadata": {},
   "source": [
    "### Implement a Python program that writes a list of student names to a binary file named \"students.dat.\" Each student's name should be stored as a separate record in the file. The program should also include a function to read the names from the file and display them."
   ]
  },
  {
   "cell_type": "code",
   "execution_count": 3,
   "metadata": {},
   "outputs": [
    {
     "name": "stdout",
     "output_type": "stream",
     "text": [
      "Student Names:\n",
      "John Doe\n",
      "Jane Smith\n",
      "Michael Johnson\n",
      "Emily Davis\n"
     ]
    }
   ],
   "source": [
    "import struct\n",
    "\n",
    "def write_student_names(file_name, student_name):\n",
    "    with open(file_name,'wb') as file:\n",
    "        for name in student_name:\n",
    "            name_bytes = name.encode('utf-8')\n",
    "            file.write(struct.pack('i', len(name_bytes)))\n",
    "            file.write(name_bytes)\n",
    "\n",
    "def read_student_names(file_name):\n",
    "    student_names = []\n",
    "    with open(file_name,'rb') as file:\n",
    "        while True:\n",
    "            try:\n",
    "                name_length = struct.unpack('i',file.read(4))[0]\n",
    "                name_bytes = file.read(name_length)\n",
    "                name = name_bytes.decode('utf-8')\n",
    "                student_names.append(name)\n",
    "            except struct.error:\n",
    "                break\n",
    "    return student_names\n",
    "            \n",
    "\n",
    "student_names = ['John Doe', 'Jane Smith', 'Michael Johnson', 'Emily Davis']\n",
    "write_student_names('students.dat', student_names)\n",
    "\n",
    "read_names = read_student_names('students.dat')\n",
    "print(\"Student Names:\")\n",
    "for name in read_names:\n",
    "    print(name)"
   ]
  },
  {
   "cell_type": "markdown",
   "metadata": {},
   "source": [
    "### Create a Python function that reads a text file named \"story.txt\" and counts the number of lines that do not start with an alphabet. The function should return the count."
   ]
  },
  {
   "cell_type": "code",
   "execution_count": 4,
   "metadata": {},
   "outputs": [
    {
     "name": "stdout",
     "output_type": "stream",
     "text": [
      "Number of lines not starting with an alphabet in 'story.txt': 4\n"
     ]
    }
   ],
   "source": [
    "def findNonAlpha(filename):\n",
    "    non_alphabet_count = 0\n",
    "    with open(filename, 'r') as file:\n",
    "        for line in file:\n",
    "            if line.strip() and not line[0].isalpha():\n",
    "                non_alphabet_count+=1\n",
    "    return non_alphabet_count\n",
    "\n",
    "file_name = \"story.txt\"\n",
    "non_alphabet_lines_count = findNonAlpha(file_name)\n",
    "print(f\"Number of lines not starting with an alphabet in '{file_name}': {non_alphabet_lines_count}\")"
   ]
  },
  {
   "cell_type": "markdown",
   "metadata": {},
   "source": [
    "### Write a Python program that reads a text file named \"poem.txt\" and displays the content line by line. The program should also include a function to count the total number of lines in the file."
   ]
  },
  {
   "cell_type": "code",
   "execution_count": 5,
   "metadata": {},
   "outputs": [
    {
     "name": "stdout",
     "output_type": "stream",
     "text": [
      "In Flanders fields the poppies blow\n",
      "Between the crosses, row on row,\n",
      "That mark our place; and in the sky\n",
      "The larks, still bravely singing, fly\n",
      "Scarce heard amid the guns below.\n",
      "\n",
      "We are the Dead. Short days ago\n",
      "We lived, felt dawn, saw sunset glow,\n",
      "Loved and were loved, and now we lie\n",
      "In Flanders fields.\n",
      "\n",
      "Take up our quarrel with the foe:\n",
      "To you from failing hands we throw\n",
      "The torch; be yours to hold it high.\n",
      "If ye break faith with us who die\n",
      "We shall not sleep, though poppies grow\n",
      "In Flanders fields.\n",
      "\n",
      "Total number of lines in 'poem.txt': 17\n"
     ]
    }
   ],
   "source": [
    "def count_total_line(file_name):\n",
    "    with open(file_name, 'r') as file:\n",
    "        total_lines = sum(1 for line in file)\n",
    "    return total_lines\n",
    "\n",
    "def display_content(file_name):\n",
    "    with open(file_name, 'r') as file:\n",
    "        for line in file:\n",
    "            print(line.strip())\n",
    "            \n",
    "\n",
    "file_name = \"poem.txt\"\n",
    "display_content(file_name)\n",
    "total_lines = count_total_line(file_name)\n",
    "print(f\"\\nTotal number of lines in 'poem.txt': {total_lines}\")"
   ]
  },
  {
   "cell_type": "markdown",
   "metadata": {},
   "source": [
    "### Implement a Python function that reads a binary file named \"game.dat\" and creates a new file named \"basket.dat\" containing only the records from \"game.dat\" where the number of participants is greater than 5. The function should handle any exceptions that may occur during file operations."
   ]
  },
  {
   "cell_type": "code",
   "execution_count": 6,
   "metadata": {},
   "outputs": [
    {
     "name": "stdout",
     "output_type": "stream",
     "text": [
      "File 'game.dat' created successfully with the provided contents.\n"
     ]
    }
   ],
   "source": [
    "def create_game_file(file_name, contents):\n",
    "    try:\n",
    "        with open(file_name, 'wb') as file:\n",
    "            for content in contents:\n",
    "                num_participants = content.to_bytes(4, byteorder='big')  # Convert integer to 4-byte binary\n",
    "                file.write(num_participants)\n",
    "        print(f\"File '{file_name}' created successfully with the provided contents.\")\n",
    "    except Exception as e:\n",
    "        print(f\"Error: {e}\")\n",
    "\n",
    "contents = [3, 7, 2, 10, 6, 4, 8, 5]\n",
    "\n",
    "create_game_file(\"game.dat\", contents)"
   ]
  },
  {
   "cell_type": "code",
   "execution_count": 7,
   "metadata": {},
   "outputs": [],
   "source": [
    "def filter_records(input_file, output_file):\n",
    "    try:\n",
    "        with open(input_file, 'rb') as input_f, open(output_file, 'wb') as output_f:\n",
    "            while True:\n",
    "                try:\n",
    "                    record = input_f.read(4)  # Assuming each record is 4 bytes (integer)\n",
    "                    if not record:\n",
    "                        break\n",
    "                    num_participants = int.from_bytes(record, byteorder='big')  # Convert bytes to integer\n",
    "                    if num_participants > 5:\n",
    "                        output_f.write(record)\n",
    "                except struct.error:\n",
    "                    break\n",
    "    except FileNotFoundError:\n",
    "        print(f\"Error: File '{input_file}' not found.\")\n",
    "    except Exception as e:\n",
    "        print(f\"Error: {e}\")\n",
    "\n",
    "\n",
    "input_file = \"game.dat\"\n",
    "output_file = \"basket.dat\"\n",
    "filter_records(input_file, output_file)"
   ]
  },
  {
   "cell_type": "code",
   "execution_count": null,
   "metadata": {},
   "outputs": [],
   "source": []
  }
 ],
 "metadata": {
  "kernelspec": {
   "display_name": "Python 3",
   "language": "python",
   "name": "python3"
  },
  "language_info": {
   "codemirror_mode": {
    "name": "ipython",
    "version": 3
   },
   "file_extension": ".py",
   "mimetype": "text/x-python",
   "name": "python",
   "nbconvert_exporter": "python",
   "pygments_lexer": "ipython3",
   "version": "3.11.1"
  }
 },
 "nbformat": 4,
 "nbformat_minor": 2
}
