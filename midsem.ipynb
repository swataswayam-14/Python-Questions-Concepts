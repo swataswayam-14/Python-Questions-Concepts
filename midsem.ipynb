{
 "cells": [
  {
   "cell_type": "code",
   "execution_count": null,
   "metadata": {},
   "outputs": [],
   "source": []
  },
  {
   "cell_type": "markdown",
   "metadata": {},
   "source": [
    "# Write a Python script that prompts the user for their name and prints a greeting message. (5 marks)"
   ]
  },
  {
   "cell_type": "code",
   "execution_count": 1,
   "metadata": {},
   "outputs": [
    {
     "name": "stdout",
     "output_type": "stream",
     "text": [
      "Hello swayam Good Morning\n"
     ]
    }
   ],
   "source": [
    "def greet(name):\n",
    "    print('Hello {f} Good Morning'.format(f=name))\n",
    "\n",
    "greet('swayam')"
   ]
  },
  {
   "cell_type": "markdown",
   "metadata": {},
   "source": [
    "## Write a Python function that takes a string as input and returns a new string with all occurrences of a specified character replaced with an asterisk. (5 marks)"
   ]
  },
  {
   "cell_type": "code",
   "execution_count": 6,
   "metadata": {},
   "outputs": [
    {
     "name": "stdout",
     "output_type": "stream",
     "text": [
      "****bbcdefgh***mnhnhnhcs*\n"
     ]
    }
   ],
   "source": [
    "def changeString(orgStr, char):\n",
    "    newStr = \"\"\n",
    "    for c in orgStr:\n",
    "        if c == char:\n",
    "            newStr+='*'\n",
    "        else:\n",
    "            newStr+= c\n",
    "    return newStr\n",
    "\n",
    "print(changeString('aaaabbcdefghaaamnhnhnhcsa', 'a'))\n"
   ]
  },
  {
   "cell_type": "markdown",
   "metadata": {},
   "source": [
    "## Write a Python program that takes two numbers as input from the user and prints their sum, difference, product, and quotient.\n",
    "\n"
   ]
  },
  {
   "cell_type": "code",
   "execution_count": 9,
   "metadata": {},
   "outputs": [
    {
     "ename": "TypeError",
     "evalue": "can only concatenate str (not \"int\") to str",
     "output_type": "error",
     "traceback": [
      "\u001b[1;31m---------------------------------------------------------------------------\u001b[0m",
      "\u001b[1;31mTypeError\u001b[0m                                 Traceback (most recent call last)",
      "Cell \u001b[1;32mIn[9], line 4\u001b[0m\n\u001b[0;32m      2\u001b[0m     \u001b[38;5;28msum\u001b[39m \u001b[38;5;241m=\u001b[39m \u001b[38;5;28mint\u001b[39m(a) \u001b[38;5;241m+\u001b[39m \u001b[38;5;28mint\u001b[39m(b)\n\u001b[0;32m      3\u001b[0m     \u001b[38;5;28mprint\u001b[39m(\u001b[38;5;124m'\u001b[39m\u001b[38;5;124msum is \u001b[39m\u001b[38;5;124m'\u001b[39m\u001b[38;5;241m+\u001b[39m\u001b[38;5;28msum\u001b[39m)\n\u001b[1;32m----> 4\u001b[0m \u001b[43mprintSDQ\u001b[49m\u001b[43m(\u001b[49m\u001b[38;5;241;43m4\u001b[39;49m\u001b[43m,\u001b[49m\u001b[38;5;241;43m2\u001b[39;49m\u001b[43m)\u001b[49m\n",
      "Cell \u001b[1;32mIn[9], line 3\u001b[0m, in \u001b[0;36mprintSDQ\u001b[1;34m(a, b)\u001b[0m\n\u001b[0;32m      1\u001b[0m \u001b[38;5;28;01mdef\u001b[39;00m \u001b[38;5;21mprintSDQ\u001b[39m(a , b):\n\u001b[0;32m      2\u001b[0m     \u001b[38;5;28msum\u001b[39m \u001b[38;5;241m=\u001b[39m \u001b[38;5;28mint\u001b[39m(a) \u001b[38;5;241m+\u001b[39m \u001b[38;5;28mint\u001b[39m(b)\n\u001b[1;32m----> 3\u001b[0m     \u001b[38;5;28mprint\u001b[39m(\u001b[38;5;124;43m'\u001b[39;49m\u001b[38;5;124;43msum is \u001b[39;49m\u001b[38;5;124;43m'\u001b[39;49m\u001b[38;5;241;43m+\u001b[39;49m\u001b[38;5;28;43msum\u001b[39;49m)\n",
      "\u001b[1;31mTypeError\u001b[0m: can only concatenate str (not \"int\") to str"
     ]
    }
   ],
   "source": [
    "def printSDQ(a , b):\n",
    "    sum = int(a) + int(b)\n",
    "    print('sum is '+sum)\n",
    "printSDQ(4,2)"
   ]
  },
  {
   "cell_type": "markdown",
   "metadata": {},
   "source": [
    "## Write a Python program that checks if a given number is prime or not."
   ]
  },
  {
   "cell_type": "code",
   "execution_count": 18,
   "metadata": {},
   "outputs": [
    {
     "data": {
      "text/plain": [
       "True"
      ]
     },
     "execution_count": 18,
     "metadata": {},
     "output_type": "execute_result"
    }
   ],
   "source": [
    "def checkPrime(n):\n",
    "    i = 2\n",
    "    factors = 0\n",
    "    while(i<n):\n",
    "        if(n%i == 0):\n",
    "            factors+=1\n",
    "        i+=1\n",
    "    if(factors >= 1):\n",
    "        return False\n",
    "    else:\n",
    "        return True\n",
    "checkPrime(2)"
   ]
  },
  {
   "cell_type": "markdown",
   "metadata": {},
   "source": [
    "## Write a Python program that takes a list of numbers as input and prints the largest number in the list."
   ]
  },
  {
   "cell_type": "code",
   "execution_count": 19,
   "metadata": {},
   "outputs": [
    {
     "name": "stdout",
     "output_type": "stream",
     "text": [
      "99\n"
     ]
    }
   ],
   "source": [
    "def findLargest(lst):\n",
    "    maxEl = -9999999\n",
    "    for el in lst:\n",
    "        if(maxEl < el):\n",
    "            maxEl = el\n",
    "    return maxEl\n",
    "\n",
    "print(findLargest([1,5,7,1,2,3,99,4,23]))"
   ]
  },
  {
   "cell_type": "markdown",
   "metadata": {},
   "source": [
    "## Write a Python program that reverses a given string."
   ]
  },
  {
   "cell_type": "code",
   "execution_count": 22,
   "metadata": {},
   "outputs": [
    {
     "name": "stdout",
     "output_type": "stream",
     "text": [
      "mayaws\n",
      "mayaws\n"
     ]
    }
   ],
   "source": [
    "def reverseString(str):\n",
    "    revStr = \"\"\n",
    "    lastIdx = len(str)-1\n",
    "    while (lastIdx >= 0):\n",
    "        revStr += str[lastIdx]\n",
    "        lastIdx -=1\n",
    "    return revStr\n",
    "\n",
    "print(reverseString(\"swayam\"))\n",
    "\n",
    "\n",
    "def reverseString2(str):\n",
    "    revStr = str[::-1]\n",
    "    return revStr\n",
    "print(reverseString2(\"swayam\"))"
   ]
  },
  {
   "cell_type": "markdown",
   "metadata": {},
   "source": [
    "## Write a Python function that calculates the factorial of a given positive integer."
   ]
  },
  {
   "cell_type": "code",
   "execution_count": 26,
   "metadata": {},
   "outputs": [
    {
     "name": "stdout",
     "output_type": "stream",
     "text": [
      "1\n"
     ]
    }
   ],
   "source": [
    "def calcFact(n):\n",
    "    if(n == 0):\n",
    "        return 1\n",
    "    else: \n",
    "        return n*calcFact(n-1)\n",
    "    \n",
    "print(calcFact(1))"
   ]
  },
  {
   "cell_type": "markdown",
   "metadata": {},
   "source": [
    "## Given a string s, find the length of the longest substring without repeating characters.\n",
    "\n"
   ]
  },
  {
   "cell_type": "code",
   "execution_count": 39,
   "metadata": {},
   "outputs": [
    {
     "data": {
      "text/plain": [
       "3"
      ]
     },
     "execution_count": 39,
     "metadata": {},
     "output_type": "execute_result"
    }
   ],
   "source": [
    "def longest_unique_substring(s):\n",
    "    seen = set()\n",
    "    start = 0\n",
    "    max_length = 0\n",
    "\n",
    "    for i, char in enumerate(s):\n",
    "        while char in seen and start <= i:\n",
    "            seen.remove(s[start])\n",
    "            start += 1\n",
    "\n",
    "        if i - start + 1 > max_length:\n",
    "            max_length = i - start + 1\n",
    "        seen.add(char)\n",
    "\n",
    "    return max_length\n",
    "\n",
    "longest_unique_substring(\"abcabcbb\")\n",
    "            "
   ]
  },
  {
   "cell_type": "markdown",
   "metadata": {},
   "source": [
    "## letter combination of a phone number"
   ]
  },
  {
   "cell_type": "code",
   "execution_count": 1,
   "metadata": {},
   "outputs": [
    {
     "name": "stdout",
     "output_type": "stream",
     "text": [
      "['ad', 'ae', 'af', 'bd', 'be', 'bf', 'cd', 'ce', 'cf']\n"
     ]
    }
   ],
   "source": [
    "def letterCombinations(digits):\n",
    "    res = []\n",
    "    digitToChar = {\n",
    "        \"2\":\"abc\",\n",
    "        \"3\":\"def\",\n",
    "        \"4\":\"ghi\",\n",
    "        \"5\":\"jkl\",\n",
    "        \"6\":\"mno\",\n",
    "        \"7\":\"pqrs\",\n",
    "        \"8\":\"tuv\",\n",
    "        \"9\":\"wxyz\"\n",
    "    }\n",
    "    \n",
    "    def backTrack(i,curStr):\n",
    "        if(len(curStr) == len(digits)):\n",
    "            res.append(curStr)\n",
    "            return\n",
    "        for c in digitToChar[digits[i]]:\n",
    "            backTrack(i+1,curStr+c)\n",
    "    \n",
    "    if digits:\n",
    "        backTrack(0,\"\")\n",
    "    return res\n",
    "\n",
    "\n",
    "print(letterCombinations(\"23\"))"
   ]
  },
  {
   "cell_type": "markdown",
   "metadata": {},
   "source": [
    "## word search"
   ]
  },
  {
   "cell_type": "code",
   "execution_count": 4,
   "metadata": {},
   "outputs": [],
   "source": [
    "def exist(board, word):\n",
    "    ROWS , COLS = len(board), len(board[0])\n",
    "    path = set()\n",
    "    \n",
    "    def dfs(r,c,i):\n",
    "        if i == len(word):\n",
    "            return True\n",
    "        if(r<0 or c<0 or r>= ROWS or c >= COLS or word[i] != board[r][c] or (r,c) in path):\n",
    "            return False\n",
    "        path.add((r,c))\n",
    "        res = dfs(r+1, c, i+1) or dfs(r-1, c, i+1) or dfs(r, c+1, i+1) or dfs(r, c-1, i+1)\n",
    "        path.remove((r,c))\n",
    "        return res\n",
    "    for r in range(ROWS):\n",
    "        for c in range(COLS):\n",
    "            if dfs(r,c,0): return True\n",
    "            \n",
    "    return False\n",
    "\n",
    "# O(n*m* 4^l where l is the length of the word)\n",
    "\n",
    "#O(4^n): its the timecomplexity of the function"
   ]
  },
  {
   "cell_type": "markdown",
   "metadata": {},
   "source": [
    "## subsets"
   ]
  },
  {
   "cell_type": "markdown",
   "metadata": {},
   "source": [
    "#### given an integer array nums , return all possible subsets (the power set) The solution set must not contain duplicate subsets"
   ]
  },
  {
   "cell_type": "code",
   "execution_count": 5,
   "metadata": {},
   "outputs": [
    {
     "name": "stdout",
     "output_type": "stream",
     "text": [
      "[[1, 2, 3], [1, 2], [1, 3], [1], [2, 3], [2], [3], []]\n"
     ]
    }
   ],
   "source": [
    "def subsets(nums):\n",
    "    res = []\n",
    "    subset = []\n",
    "    def dfs(i):\n",
    "        if i >= len(nums):\n",
    "            res.append(subset.copy())\n",
    "            return\n",
    "        # decision to include nums[i]\n",
    "        subset.append(nums[i])\n",
    "        dfs(i+1)\n",
    "        \n",
    "        #decision to not to include nums[i]\n",
    "        \n",
    "        subset.pop() # remove the element that we have added\n",
    "        dfs(i+1)\n",
    "    dfs(0)\n",
    "    return res\n",
    "\n",
    "print(subsets([1,2,3]))\n",
    " #time complexity is O(n*2^n)"
   ]
  },
  {
   "cell_type": "markdown",
   "metadata": {},
   "source": [
    "## COMBINATION SUM\n",
    "\n",
    "#### given an array of distinct integer candidates and a target integer target , return a list of all unique combination of candidates where the chosen numbers sum to target. You may return the combination in any order\n",
    "\n",
    "##### The same number may be choosen from candidates an unlimited number of times. Two combinations are unique if the frequency of at least one of the chosen number is different.\n",
    "\n",
    "##### it is guaranteed that the number of unique combinations that sum up to target is less than 150 combinations for the given input"
   ]
  },
  {
   "cell_type": "markdown",
   "metadata": {},
   "source": [
    "questions : assignment 3         1.write a function that takes two sorted lists as input and returns a new list that is the merged , sorted version of the input list, the function shouldnot use any built-in functions ,          2.Write a function that takes a list as an input and returns a new list with duplicate removed while maintaining the original order of elements              3.write a function to transpose a given matrix represented as a list of list"
   ]
  },
  {
   "cell_type": "code",
   "execution_count": 2,
   "metadata": {},
   "outputs": [
    {
     "name": "stdout",
     "output_type": "stream",
     "text": [
      "[1, 2, 5, 6, 7, 9]\n"
     ]
    }
   ],
   "source": [
    "def mergeList(list1, list2):\n",
    "    mergeList = []\n",
    "    i=0\n",
    "    j=0\n",
    "    while(i<len(list1) and j<len(list2)):\n",
    "        if(list1[i]<list2[j]):\n",
    "            mergeList.append(list1[i])\n",
    "            i+=1\n",
    "        else:\n",
    "            mergeList.append(list2[j])\n",
    "            j+=1\n",
    "    while(i<len(list1)):\n",
    "        mergeList.append(list1[i])\n",
    "        i+=1\n",
    "    while(j<len(list2)):\n",
    "        mergeList.append(list2[j])\n",
    "        j+=1\n",
    "    return mergeList\n",
    "\n",
    "print(mergeList([1,2,9],[5,6,7]))"
   ]
  },
  {
   "cell_type": "code",
   "execution_count": 6,
   "metadata": {},
   "outputs": [
    {
     "name": "stdout",
     "output_type": "stream",
     "text": [
      "[1, 2, 8, 9, 3, 4, 5]\n"
     ]
    }
   ],
   "source": [
    "def removeDuplicates(lst):\n",
    "    tempDict = {}\n",
    "    dupRemoved = []\n",
    "    i=0\n",
    "    while i<len(lst):\n",
    "        if lst[i] not in tempDict:\n",
    "            tempDict[lst[i]] = 1\n",
    "        else:\n",
    "            tempDict[lst[i]] += 1\n",
    "        i+=1\n",
    "    j=0\n",
    "    while(j<len(lst)):\n",
    "        dupRemoved.append(lst[j])\n",
    "        j+=tempDict[lst[j]]\n",
    "    return dupRemoved\n",
    "print(removeDuplicates([1,1,2,8,8,9,3,4,4,5]))"
   ]
  },
  {
   "cell_type": "code",
   "execution_count": 7,
   "metadata": {},
   "outputs": [
    {
     "name": "stdout",
     "output_type": "stream",
     "text": [
      "[1, 2, 3, 4, 5, 6, 7, 8, 0]\n"
     ]
    }
   ],
   "source": [
    "def removeDuplicatesSimple(lst):\n",
    "    newList = []\n",
    "    \n",
    "    for el in lst:\n",
    "        if el not in newList:\n",
    "            newList.append(el)\n",
    "    return newList\n",
    "\n",
    "print(removeDuplicatesSimple([1,1,2,3,4,4,4,4,4,5,6,7,8,0,0,0,0,0]))"
   ]
  },
  {
   "cell_type": "markdown",
   "metadata": {},
   "source": [
    "## python function that takes a number as input and returns true if it is a prime number and false otherwise also  provide a list of all prime number upto that input"
   ]
  },
  {
   "cell_type": "code",
   "execution_count": 7,
   "metadata": {},
   "outputs": [
    {
     "name": "stdout",
     "output_type": "stream",
     "text": [
      "[2, 3, 5, 7, 11, 13, 17, 19, 23, 29, 31, 37, 41, 43, 47, 53, 59, 61, 67, 71, 73, 79, 83, 89, 97]\n"
     ]
    }
   ],
   "source": [
    "def isPrime(n):\n",
    "    if n<2:\n",
    "        return False\n",
    "    i=2\n",
    "    while(i<n):\n",
    "        if n%i == 0:\n",
    "            return False\n",
    "        i+=1\n",
    "    return True\n",
    "\n",
    "\n",
    "def PrimeUptoN(n):\n",
    "    lstOfPrime = []\n",
    "    i=1\n",
    "    while i<=n:\n",
    "        if isPrime(i):\n",
    "            lstOfPrime.append(i)\n",
    "        i+=1\n",
    "    return lstOfPrime\n",
    "print(PrimeUptoN(100))"
   ]
  },
  {
   "cell_type": "markdown",
   "metadata": {},
   "source": [
    "## given a list of integer , write a function to find the second largest element in the list without using the built in max function or .sort"
   ]
  },
  {
   "cell_type": "code",
   "execution_count": 11,
   "metadata": {},
   "outputs": [
    {
     "name": "stdout",
     "output_type": "stream",
     "text": [
      "88\n"
     ]
    }
   ],
   "source": [
    "def secondLargestNum(lst):\n",
    "    maxNum = -999\n",
    "    for el in lst:\n",
    "        if maxNum<el:\n",
    "            maxNum = el\n",
    "    \n",
    "    lst.pop(lst.index(maxNum))\n",
    "    secondLargest = -999\n",
    "    for el in lst:\n",
    "        if secondLargest<el:\n",
    "            secondLargest = el\n",
    "    return secondLargest\n",
    "\n",
    "print(secondLargestNum([1,2,3,99,88]))\n",
    "    "
   ]
  },
  {
   "cell_type": "markdown",
   "metadata": {},
   "source": [
    "## #write a python script that counts the frequency of each word in a given text and stores the result in a dictonary\n",
    "\n"
   ]
  },
  {
   "cell_type": "code",
   "execution_count": 12,
   "metadata": {},
   "outputs": [
    {
     "data": {
      "text/plain": [
       "{'hello': 1, 'it': 1, 'is': 1, 'profit': 3, 'and': 1, 'also': 1}"
      ]
     },
     "execution_count": 12,
     "metadata": {},
     "output_type": "execute_result"
    }
   ],
   "source": [
    "\n",
    "def countFrequency(sentence):\n",
    "    freq = {}\n",
    "    lstOfWords = sentence.split(' ')\n",
    "    for el in lstOfWords:\n",
    "        if el not in freq:\n",
    "            freq[el] = 1\n",
    "        else:\n",
    "            freq[el]+=1\n",
    "    return freq\n",
    "\n",
    "countFrequency(\"hello it is profit profit and also profit\")\n",
    "        \n",
    "    "
   ]
  },
  {
   "cell_type": "markdown",
   "metadata": {},
   "source": [
    "## #write a recursive function to calculate the factorial of a given number , generate the nth fibonacci number , to implement binary search on a sorted list , to calculate the power of a number x raised to n , to reverse a string"
   ]
  },
  {
   "cell_type": "code",
   "execution_count": 13,
   "metadata": {},
   "outputs": [
    {
     "name": "stdout",
     "output_type": "stream",
     "text": [
      "120\n"
     ]
    }
   ],
   "source": [
    "def calcFact(n):\n",
    "    if n == 1 or n == 0:\n",
    "        return 1\n",
    "    return n * calcFact(n-1)\n",
    "print(calcFact(5))"
   ]
  },
  {
   "cell_type": "code",
   "execution_count": 18,
   "metadata": {},
   "outputs": [
    {
     "data": {
      "text/plain": [
       "6765"
      ]
     },
     "execution_count": 18,
     "metadata": {},
     "output_type": "execute_result"
    }
   ],
   "source": [
    "def fibonacci(n):\n",
    "    if n == 1 or n == 0:\n",
    "        return n\n",
    "    return fibonacci(n-1)+ fibonacci(n-2)\n",
    "fibonacci(20)"
   ]
  },
  {
   "cell_type": "code",
   "execution_count": 19,
   "metadata": {},
   "outputs": [
    {
     "name": "stdout",
     "output_type": "stream",
     "text": [
      "8\n"
     ]
    }
   ],
   "source": [
    "def power(a,n):\n",
    "    if n == 0:\n",
    "        return 1\n",
    "    if n == 1:\n",
    "        return a\n",
    "    return a * power(a,n-1)\n",
    "print(power(2,3))"
   ]
  },
  {
   "cell_type": "code",
   "execution_count": 29,
   "metadata": {},
   "outputs": [
    {
     "data": {
      "text/plain": [
       "-1"
      ]
     },
     "execution_count": 29,
     "metadata": {},
     "output_type": "execute_result"
    }
   ],
   "source": [
    "def binarySearch(s,e,nums,target):\n",
    "    if(e>s):\n",
    "        mid = (s+e)//2\n",
    "        if(nums[mid] == target):\n",
    "            return mid\n",
    "        elif(nums[mid] > target): # the target element might be present in the left half of the array\n",
    "            return binarySearch(s,mid-1,nums,target)\n",
    "        else:\n",
    "            return binarySearch(mid+1,e,nums,target)\n",
    "    else:\n",
    "        return -1\n",
    "    \n",
    "nums = [1,2,3,4,5,6,7,8,9]\n",
    "binarySearch(0,len(nums)-1,nums,10)\n",
    "    "
   ]
  },
  {
   "cell_type": "markdown",
   "metadata": {},
   "source": [
    "## Write a Python program to find the second highest value in a dictionary."
   ]
  },
  {
   "cell_type": "code",
   "execution_count": null,
   "metadata": {},
   "outputs": [],
   "source": [
    "my_dict = {'a': 10, 'b': 20, 'c': 30, 'd': 40, 'e': 50}\n",
    "\n",
    "# Get the values from the dictionary\n",
    "values = my_dict.values()\n",
    "\n",
    "# Convert the values to a list and sort it in descending order\n",
    "sorted_values = sorted(list(set(values)), reverse=True)\n",
    "\n",
    "# Get the second highest value\n",
    "second_highest = sorted_values[1]\n",
    "\n",
    "# Find the key(s) associated with the second highest value\n",
    "keys = [key for key, value in my_dict.items() if value == second_highest]\n",
    "\n",
    "# Print the result\n",
    "print(\"The second highest value in the dictionary is:\", second_highest)\n",
    "print(\"The key(s) associated with the second highest value is/are:\", keys)"
   ]
  },
  {
   "cell_type": "markdown",
   "metadata": {},
   "source": [
    "## Write a Python program to find the sum of all values in a dictionary."
   ]
  },
  {
   "cell_type": "code",
   "execution_count": null,
   "metadata": {},
   "outputs": [],
   "source": [
    "def calculate_sum(dictionary):\n",
    "    total_sum = 0\n",
    "    for value in dictionary.values():\n",
    "        total_sum += value\n",
    "    \n",
    "    return total_sum\n",
    "\n",
    "if __name__ == \"__main__\":\n",
    "    my_dict = {'a': 10, 'b': 20, 'c': 30, 'd': 40, 'e': 50}\n",
    "    print(\"Sum of all values in the dictionary is:\", calculate_sum(my_dict))"
   ]
  },
  {
   "cell_type": "markdown",
   "metadata": {},
   "source": [
    "## Write a Python program to find the key with the maximum value in a dictionary."
   ]
  },
  {
   "cell_type": "code",
   "execution_count": null,
   "metadata": {},
   "outputs": [],
   "source": [
    "def max_val_key(dictionary):\n",
    "    max_val = float('-inf') # Initialize with negative infinity\n",
    "    max_key = None\n",
    "\n",
    "    for key, val in dictionary.items():\n",
    "        if val > max_val:\n",
    "            max_val = val\n",
    "            max_key = key\n",
    "\n",
    "    return max_key\n",
    "\n",
    "if __name__ == \"__main__\":\n",
    "    my_dict = {'a': 10, 'b': 20, 'c': 30, 'd': 40, 'e': 50}\n",
    "    print(\"Key with maximum value in the dictionary is:\", max_val_key(my_dict))"
   ]
  },
  {
   "cell_type": "markdown",
   "metadata": {},
   "source": [
    "## Write a Python program to sort a dictionary by its keys"
   ]
  },
  {
   "cell_type": "code",
   "execution_count": 1,
   "metadata": {},
   "outputs": [
    {
     "name": "stdout",
     "output_type": "stream",
     "text": [
      "Sorted dictionary by keys:\n",
      "{'rajnish': 9, 'ravi': 10, 'sanjeev': 15, 'suraj': 32, 'yash': 2}\n"
     ]
    }
   ],
   "source": [
    "def sort_dict_by_keys(dictionary):\n",
    "    sorted_keys = sorted(dictionary.keys())\n",
    "    sorted_dict = {}\n",
    "    for key in sorted_keys:\n",
    "        sorted_dict[key] = dictionary[key]\n",
    "    return sorted_dict\n",
    "\n",
    "if __name__ == \"__main__\":\n",
    "    my_dict = {'ravi': 10, 'rajnish': 9, 'sanjeev': 15, 'yash': 2, 'suraj': 32}\n",
    "    print(\"Sorted dictionary by keys:\")\n",
    "    print(sort_dict_by_keys(my_dict))"
   ]
  },
  {
   "cell_type": "markdown",
   "metadata": {},
   "source": [
    "## \n",
    "Write a Python program to remove all duplicates from a dictionary."
   ]
  },
  {
   "cell_type": "code",
   "execution_count": null,
   "metadata": {},
   "outputs": [],
   "source": [
    "def remove_duplicates(dictionary):\n",
    "    unique_dict = {}\n",
    "    for key, value in dictionary.items():\n",
    "        if value not in unique_dict.values():\n",
    "            unique_dict[key] = value\n",
    "    return unique_dict\n",
    "\n",
    "if __name__ == \"__main__\":\n",
    "    my_dict = {'a': 10, 'b': 20, 'c': 10, 'd': 30, 'e': 20}\n",
    "    print(\"Dictionary with duplicates removed:\")\n",
    "    print(remove_duplicates(my_dict))"
   ]
  },
  {
   "cell_type": "markdown",
   "metadata": {},
   "source": [
    "## \n",
    "Write a Python program to find the common keys between two dictionaries"
   ]
  },
  {
   "cell_type": "code",
   "execution_count": null,
   "metadata": {},
   "outputs": [],
   "source": [
    "def common_keys(first_dict, second_dict):\n",
    "    common_keys = set(first_dict.keys()).intersection(set(second_dict.keys()))\n",
    "    return common_keys\n",
    "\n",
    "if __name__ == \"__main__\":\n",
    "    first_dict = {'a': 10, 'b': 20, 'c': 30, 'd': 40}\n",
    "    second_dict = {'b': 25, 'c': 35, 'f': 45, 'g': 55}\n",
    "    print(\"Common keys between the two dictionaries:\")\n",
    "    print(*common_keys(first_dict, second_dict), sep='\\n')"
   ]
  },
  {
   "cell_type": "markdown",
   "metadata": {},
   "source": [
    "## Write a Python program to create a dictionary from a list of tuples"
   ]
  },
  {
   "cell_type": "code",
   "execution_count": null,
   "metadata": {},
   "outputs": [],
   "source": [
    "def create_dict_from_tuples(tuple_list):\n",
    "    dictionary = {}\n",
    "    for key, value in tuple_list:\n",
    "        dictionary[key] = value\n",
    "    return dictionary\n",
    "\n",
    "if __name__ == \"__main__\":\n",
    "    my_tuple_list = [('a', 10), ('b', 20), ('c', 30), ('d', 40), ('e', 50)]\n",
    "    print(\"Dictionary created from the list of tuples:\")\n",
    "    print(create_dict_from_tuples(my_tuple_list))"
   ]
  },
  {
   "cell_type": "code",
   "execution_count": 2,
   "metadata": {},
   "outputs": [
    {
     "name": "stdout",
     "output_type": "stream",
     "text": [
      "{'key1': 'hello', 'key3': 'you'}\n"
     ]
    }
   ],
   "source": [
    "#remove duplicates\n",
    "\n",
    "def removeDuplicates(dict):\n",
    "    dupRemoved = {}\n",
    "    for key , value in dict.items():\n",
    "        if value not in dupRemoved.values():\n",
    "            dupRemoved[key] = value\n",
    "    \n",
    "    return dupRemoved\n",
    "\n",
    "print(removeDuplicates({\n",
    "    \"key1\":\"hello\",\n",
    "    \"key2\":\"hello\",\n",
    "    \"key3\":\"you\"\n",
    "}))"
   ]
  },
  {
   "cell_type": "code",
   "execution_count": null,
   "metadata": {},
   "outputs": [],
   "source": [
    "#sorting a dictonary by its keys\n",
    "\n",
    "def sortDict(dict):\n",
    "    sortedDict = {}\n",
    "    "
   ]
  },
  {
   "cell_type": "code",
   "execution_count": 9,
   "metadata": {},
   "outputs": [
    {
     "name": "stdout",
     "output_type": "stream",
     "text": [
      "hello \n"
     ]
    }
   ],
   "source": [
    "s = \"hello World\"\n",
    "print(s[:-5])"
   ]
  },
  {
   "cell_type": "code",
   "execution_count": null,
   "metadata": {},
   "outputs": [],
   "source": []
  }
 ],
 "metadata": {
  "kernelspec": {
   "display_name": "Python 3",
   "language": "python",
   "name": "python3"
  },
  "language_info": {
   "codemirror_mode": {
    "name": "ipython",
    "version": 3
   },
   "file_extension": ".py",
   "mimetype": "text/x-python",
   "name": "python",
   "nbconvert_exporter": "python",
   "pygments_lexer": "ipython3",
   "version": "3.11.1"
  }
 },
 "nbformat": 4,
 "nbformat_minor": 2
}
